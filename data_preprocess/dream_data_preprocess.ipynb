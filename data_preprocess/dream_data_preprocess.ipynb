{
 "cells": [
  {
   "cell_type": "markdown",
   "metadata": {},
   "source": [
    "## Change DREAM Data into RACE Format"
   ]
  },
  {
   "cell_type": "code",
   "execution_count": 1,
   "metadata": {},
   "outputs": [],
   "source": [
    "import json\n",
    "import collections\n",
    "import random\n",
    "\n",
    "dream_train = 'train.json'\n",
    "dream_dev = 'dev.json'\n",
    "dream_test = 'test.json'"
   ]
  },
  {
   "cell_type": "code",
   "execution_count": 8,
   "metadata": {},
   "outputs": [],
   "source": [
    "def answer_text_index_map(choices, answer):\n",
    "    tokens = ['A', 'B', 'C', 'D']\n",
    "    for choice_id, choice in enumerate(choices):\n",
    "        if choice == answer:\n",
    "            return tokens[choice_id]\n",
    "    raise RuntimeError\n",
    "\n",
    "\n",
    "def read_dream(input_file):\n",
    "    dream_data = json.load(open(input_file, 'r'))\n",
    "    race_data = []\n",
    "    \n",
    "    for item in dream_data:\n",
    "        # 0: dialog\n",
    "        # 1: questions and choices and answers\n",
    "        # 2: dialog id\n",
    "        item_id = item[2]\n",
    "        context = '\\n '.join(item[0])\n",
    "        qa_list = item[1]\n",
    "        \n",
    "        options = [x['choice'] for x in qa_list]\n",
    "        \n",
    "        race_data.append({\n",
    "            'article': context,\n",
    "            'id': item_id,\n",
    "            'questions': [x['question'] for x in qa_list],\n",
    "            'options': options,\n",
    "            'answers': list(map(lambda x, y: answer_text_index_map(x, y), options, [x['answer'] for x in qa_list]))\n",
    "        })\n",
    "        \n",
    "    print(json.dumps(race_data[:2], indent=2))\n",
    "        \n",
    "    return race_data\n",
    "\n",
    "# def generate_nrs_data(input_file):\n",
    "#     dream_data = json.load(open(input_file, 'r'))\n",
    "#     nrs_data = []\n",
    "    \n",
    "#     utter_pool = []\n",
    "#     for item in dream_data:\n",
    "#         dialog = item[0]\n",
    "        \n",
    "#         utter_pool.append(dialog)\n",
    "    \n",
    "#     for item in dream_data:\n",
    "#         item_id = item[2]\n",
    "#         dialog = item[0]\n",
    "#         qa_list = item[1]\n",
    "        \n",
    "#         if len(dialog) < 4:\n",
    "#             continue\n",
    "#         dialog_nrs = []\n",
    "#         for turn_idx, turn in enumerate(dialog):\n",
    "#             if turn_idx < 2:\n",
    "#                 continue\n",
    "#             context = dialog[:(turn_idx - 1)]\n",
    "#             query = \n",
    "        \n",
    "#         for inter in turns_list:\n",
    "#             if len(dialog) > inter[0] + 1:\n",
    "#                 r1 = random.randint(inter[0], min(inter[1], len(dialog) - 1) - 1)\n",
    "#                 context = dialog[:r1]\n",
    "#                 query = dialog[r1]\n",
    "#                 response = dialog[r1 + 1]\n",
    "#                 samples = []\n",
    "#                 for k in range(4):\n",
    "#                     r = random.randint(0, len(utter_pool) - 1)\n",
    "#                     rr = random.randint(0, len(utter_pool[r]) - 1)\n",
    "#                     samples.append(utter_pool[r][rr])\n",
    "#                 response_id = random.randint(0, 5)\n",
    "#                 samples = samples[0:response_id] + [response] + samples[response_id:]\n",
    "#                 nrs_data.append({\n",
    "#                     'context': context,\n",
    "#                     'query': query,\n",
    "#                     'respones_id': response_id,\n",
    "#                     'samples': samples\n",
    "#                 })\n",
    "                \n",
    "#     print(len(nrs_data))\n",
    "#     print(json.dumps(nrs_data[:2], indent=2))\n",
    "#     return nrs_data"
   ]
  },
  {
   "cell_type": "code",
   "execution_count": 12,
   "metadata": {
    "collapsed": true,
    "jupyter": {
     "outputs_hidden": true
    }
   },
   "outputs": [
    {
     "name": "stdout",
     "output_type": "stream",
     "text": [
      "[\n",
      "  {\n",
      "    \"article\": \"W: The movie next Tuesday has been cancelled due to lack of interest.\\n M: What do you mean?\\n W: Well, by last night only a few tickets has been sold.\",\n",
      "    \"id\": \"4-199\",\n",
      "    \"questions\": [\n",
      "      \"What can we conclude about the movie?\"\n",
      "    ],\n",
      "    \"options\": [\n",
      "      [\n",
      "        \"They want to buy the tickets for the movie.\",\n",
      "        \"The tickets for the movie were sold.\",\n",
      "        \"The movie will not be shown.\"\n",
      "      ]\n",
      "    ],\n",
      "    \"answers\": [\n",
      "      \"C\"\n",
      "    ]\n",
      "  },\n",
      "  {\n",
      "    \"article\": \"W: What does the term \\\"alternative energy source\\\" mean?\\n M: When we think of energy or fuel for our homes and cars, we think of petroleum, a fossil fuel processed from oil removed from the ground, of which there is a limited supply. But alternative fuels can be many things. Wind, sun and water can all be used to create fuel.\\n W: Is the threat of running out of petroleum real?\\n M: It has taken thousands of years to create the natural stores of petroleum we have available at a much faster rate than it is being produced over time. The real controversy surrounding the amount of petroleum we have is how much we need to keep in reserve for future use. Most experts agree that by around 2025, the amount of petroleum we use will reach a peak. Then production and availability will begin to seriously decline. This is not to say there will be no petroleum at this point. But it'll become very difficult and therefore expensive to extract.\\n W: Is that the most important reason to develop alternative fuel and energy sources?\\n M: There are two very clear reasons to do so. One is that whether we have 60 or 600 years of fossil fuels left, we have to find other fuel sources eventually. So the sooner we start, the better off we will be. The other big argument is that when long time, which leads to some long-term negative effects, like global warming and the greenhouse effect.\",\n",
      "    \"id\": \"5-806\",\n",
      "    \"questions\": [\n",
      "      \"What do we usually refer to when we talk about energy according to the man?\",\n",
      "      \"What do most experts agree on according to the man?\",\n",
      "      \"What does the man think we should do now?\"\n",
      "    ],\n",
      "    \"options\": [\n",
      "      [\n",
      "        \"Coal burnt daily for the comfort of our homes.\",\n",
      "        \"Anything that can be used to produce power.\",\n",
      "        \"Fuel refined from oil extracted from underground.\"\n",
      "      ],\n",
      "      [\n",
      "        \"Oil will soon be replaced by alternative energy sources.\",\n",
      "        \"Oil production will begin to decline worldwide by 2025.\",\n",
      "        \"Oil consumption has given rise to many global problems.\"\n",
      "      ],\n",
      "      [\n",
      "        \"Minimize the use of fossil fuels.\",\n",
      "        \"Start developing alternative fuels.\",\n",
      "        \"Find the real cause for global warming.\"\n",
      "      ]\n",
      "    ],\n",
      "    \"answers\": [\n",
      "      \"C\",\n",
      "      \"B\",\n",
      "      \"B\"\n",
      "    ]\n",
      "  }\n",
      "]\n"
     ]
    }
   ],
   "source": [
    "dream_in_race_test = read_dream(dream_test)"
   ]
  },
  {
   "cell_type": "code",
   "execution_count": 13,
   "metadata": {
    "collapsed": true,
    "jupyter": {
     "outputs_hidden": true
    }
   },
   "outputs": [
    {
     "name": "stdout",
     "output_type": "stream",
     "text": [
      "[\n",
      "  {\n",
      "    \"article\": \"M: I am considering dropping my dancing class. I am not making any progress.\\n W: If I were you, I stick with it. It's definitely worth time and effort.\",\n",
      "    \"id\": \"5-510\",\n",
      "    \"questions\": [\n",
      "      \"What does the man suggest the woman do?\"\n",
      "    ],\n",
      "    \"options\": [\n",
      "      [\n",
      "        \"Consult her dancing teacher.\",\n",
      "        \"Take a more interesting class.\",\n",
      "        \"Continue her dancing class.\"\n",
      "      ]\n",
      "    ],\n",
      "    \"answers\": [\n",
      "      \"C\"\n",
      "    ]\n",
      "  },\n",
      "  {\n",
      "    \"article\": \"W: Well, I'm afraid my cooking isn't to your taste.\\n M: Actually, I like it very much.\\n W: I'm glad you enjoy it. Let me serve you some more fish.\\n M: No, thank you. I've had enough fish, but I'd like some soup.\\n W: Here it is. Help yourself!\\n M: Thanks. I didn't know you were so good at cooking. If only my wife could learn to cook from you.\\n W: Why not bring your wife next time? I haven't seen her for quite a while.\\n M: OK, I will. She will be very glad to see you, too. Thank you for the wonderful meal.\",\n",
      "    \"id\": \"7-200\",\n",
      "    \"questions\": [\n",
      "      \"What does the man think of the woman's cooking?\",\n",
      "      \"What does the woman ask the man to do?\"\n",
      "    ],\n",
      "    \"options\": [\n",
      "      [\n",
      "        \"It's really terrible.\",\n",
      "        \"It's very good indeed.\",\n",
      "        \"It's better than what he does.\"\n",
      "      ],\n",
      "      [\n",
      "        \"Improve cooking skills.\",\n",
      "        \"Bring his wife next time.\",\n",
      "        \"Have some soup.\"\n",
      "      ]\n",
      "    ],\n",
      "    \"answers\": [\n",
      "      \"B\",\n",
      "      \"B\"\n",
      "    ]\n",
      "  }\n",
      "]\n",
      "[\n",
      "  {\n",
      "    \"article\": \"M: How long have you been teaching in this middle school?\\n W: For ten years. To be frank, I'm tired of teaching the same textbook for so long though I do enjoy being a teacher. I'm considering trying something new.\",\n",
      "    \"id\": \"14-349\",\n",
      "    \"questions\": [\n",
      "      \"What's the woman probably going to do?\"\n",
      "    ],\n",
      "    \"options\": [\n",
      "      [\n",
      "        \"To teach a different textbook.\",\n",
      "        \"To change her job.\",\n",
      "        \"To learn a different textbook.\"\n",
      "      ]\n",
      "    ],\n",
      "    \"answers\": [\n",
      "      \"B\"\n",
      "    ]\n",
      "  },\n",
      "  {\n",
      "    \"article\": \"M: Did you watch TV yesterday evening?\\n F: No, I saw a film instead.\",\n",
      "    \"id\": \"12-497\",\n",
      "    \"questions\": [\n",
      "      \"What did the man probably do yesterday evening?\"\n",
      "    ],\n",
      "    \"options\": [\n",
      "      [\n",
      "        \"Saw a film.\",\n",
      "        \"Read a book.\",\n",
      "        \"Watch TV.\"\n",
      "      ]\n",
      "    ],\n",
      "    \"answers\": [\n",
      "      \"C\"\n",
      "    ]\n",
      "  }\n",
      "]\n"
     ]
    }
   ],
   "source": [
    "dream_in_race_train = read_dream(dream_train)\n",
    "dream_in_race_dev = read_dream(dream_dev)"
   ]
  },
  {
   "cell_type": "code",
   "execution_count": 14,
   "metadata": {},
   "outputs": [
    {
     "name": "stdout",
     "output_type": "stream",
     "text": [
      "3869\n",
      "1288\n",
      "1287\n"
     ]
    }
   ],
   "source": [
    "print(len(dream_in_race_train))\n",
    "print(len(dream_in_race_dev))\n",
    "print(len(dream_in_race_test))"
   ]
  },
  {
   "cell_type": "code",
   "execution_count": 15,
   "metadata": {},
   "outputs": [],
   "source": [
    "with open('train_in_race.json', 'w') as f:\n",
    "    json.dump(dream_in_race_train, f)\n",
    "with open('dev_in_race.json', 'w') as f:\n",
    "    json.dump(dream_in_race_dev, f)\n",
    "with open('test_in_race.json', 'w') as f:\n",
    "    json.dump(dream_in_race_test, f)"
   ]
  },
  {
   "cell_type": "code",
   "execution_count": 9,
   "metadata": {},
   "outputs": [
    {
     "name": "stdout",
     "output_type": "stream",
     "text": [
      "1311\n",
      "[\n",
      "  {\n",
      "    \"context\": [\n",
      "      \"W: Well, I'm afraid my cooking isn't to your taste.\",\n",
      "      \"M: Actually, I like it very much.\",\n",
      "      \"W: I'm glad you enjoy it. Let me serve you some more fish.\",\n",
      "      \"M: No, thank you. I've had enough fish, but I'd like some soup.\",\n",
      "      \"W: Here it is. Help yourself!\",\n",
      "      \"M: Thanks. I didn't know you were so good at cooking. If only my wife could learn to cook from you.\"\n",
      "    ],\n",
      "    \"query\": \"W: Why not bring your wife next time? I haven't seen her for quite a while.\",\n",
      "    \"respones_id\": 4,\n",
      "    \"samples\": [\n",
      "      \"M: Well, madam, I understand that you manufacture computers, prepare software, and advise clients on how to use them. Is that right?\",\n",
      "      \"M: Then they'll know you had people over without permission. Won't they be angry about that?\",\n",
      "      \"M: Shall we go to the concert this evening? I have two tickets.\",\n",
      "      \"M: Last week we learned first part of Unit 1. On Monday we finished Unit 1. On Wednesday we'll finish Unit 2. And on Friday we'll finish Unit 3.\",\n",
      "      \"M: OK, I will. She will be very glad to see you, too. Thank you for the wonderful meal.\"\n",
      "    ]\n",
      "  },\n",
      "  {\n",
      "    \"context\": [\n",
      "      \"Daughter: Guess what, Mom. I got it.\",\n",
      "      \"Mother: Great. That's super.\",\n",
      "      \"Father: What's going on? So, what did you get me?\",\n",
      "      \"Daughter: Nothing. I got my driver's license. Okay. Bye.\",\n",
      "      \"Father: Wait, wait, wait. Where are you going?\",\n",
      "      \"Daughter: Mom said I could take the car to school this morning, and ...\"\n",
      "    ],\n",
      "    \"query\": \"Father: Hold on here. I've prepared a few rules regarding the use of the motor vehicles in this house.\",\n",
      "    \"respones_id\": 2,\n",
      "    \"samples\": [\n",
      "      \"W: Something is wrong with our TV.\",\n",
      "      \"W: Has your mother gone to library?\",\n",
      "      \"Daughter: Like what?\",\n",
      "      \"W: With pleasure.\",\n",
      "      \"W: Oh. It's not cheap but not very expensive. You can have a nice lunch for about $6.30.\"\n",
      "    ]\n",
      "  }\n",
      "]\n"
     ]
    }
   ],
   "source": [
    "train_nrs = generate_nrs_data(dream_train)"
   ]
  },
  {
   "cell_type": "markdown",
   "metadata": {},
   "source": [
    "## Data Statistics for DREAM"
   ]
  },
  {
   "cell_type": "code",
   "execution_count": 13,
   "metadata": {},
   "outputs": [
    {
     "name": "stderr",
     "output_type": "stream",
     "text": [
      "Model name '/home/jiaofangkai/bert-base-uncased-vocab.txt' was not found in model name list (bert-base-uncased, bert-large-uncased, bert-base-cased, bert-large-cased, bert-base-multilingual-uncased, bert-base-multilingual-cased, bert-base-chinese). We assumed '/home/jiaofangkai/bert-base-uncased-vocab.txt' was a path or url but couldn't find any file associated to this path or url.\n"
     ]
    }
   ],
   "source": [
    "from pytorch_pretrained_bert.tokenization import BertTokenizer\n",
    "\n",
    "bert_tokenizer = BertTokenizer.from_pretrained('/home/jiaofangkai/bert-base-uncased-vocab.txt')\n",
    "\n",
    "import matplotlib.pyplot as plt\n",
    "import numpy as np\n",
    "from tqdm import tqdm\n",
    "from collections import Counter\n",
    "\n",
    "def write_plot(dream_data):\n",
    "    token_num_list = []\n",
    "    for instance in tqdm(dream_data, total=len(dream_data)):\n",
    "        article = instance['article']\n",
    "        questions = instance['questions']\n",
    "        answers = instance['answers']\n",
    "        choices = instance['options']\n",
    "        for question, choice_list in zip(questions, choices):\n",
    "            for choice in choice_list:\n",
    "                text = article + ' ' + question + ' ' + choice\n",
    "                token_num = len(bert_tokenizer.tokenize(text))\n",
    "                token_num_list.append(token_num)\n",
    "                \n",
    "    token_num_cnt = Counter(token_num_list)\n",
    "    xy = sorted(token_num_cnt.items(), key=lambda x: x[0], reverse=False)\n",
    "    x = [a[0] for a in xy]\n",
    "    y = [a[1] for a in xy]\n",
    "    plt.plot(x, y)\n",
    "    plt.show()\n",
    "    \n",
    "    \n",
    "\n",
    "def plot_number_of_turns(input_file):\n",
    "    data = json.load(open(input_file, 'r'))\n",
    "    turn_cnt = Counter()\n",
    "    for item in data:\n",
    "        dialog = item[0]\n",
    "        turn_cnt[len(dialog)] += 1\n",
    "        \n",
    "    turn_cnt = sorted(turn_cnt.items(), key=lambda x: x[0], reverse=False)\n",
    "    x = [a[0] for a in turn_cnt]\n",
    "    y = [a[1] for a in turn_cnt]\n",
    "    plt.plot(x, y)\n",
    "    plt.show()"
   ]
  },
  {
   "cell_type": "code",
   "execution_count": 29,
   "metadata": {},
   "outputs": [
    {
     "name": "stderr",
     "output_type": "stream",
     "text": [
      "100%|██████████| 1287/1287 [00:13<00:00, 79.37it/s] \n"
     ]
    },
    {
     "data": {
      "image/png": "[encoded data removed]",
      "text/plain": [
       "<Figure size 432x288 with 1 Axes>"
      ]
     },
     "metadata": {
      "needs_background": "light"
     },
     "output_type": "display_data"
    }
   ],
   "source": [
    "write_plot(dream_in_race_test)"
   ]
  },
  {
   "cell_type": "code",
   "execution_count": 30,
   "metadata": {},
   "outputs": [
    {
     "name": "stderr",
     "output_type": "stream",
     "text": [
      "100%|██████████| 1288/1288 [00:13<00:00, 66.96it/s] \n"
     ]
    },
    {
     "data": {
      "image/png": "[encoded data removed]",
      "text/plain": [
       "<Figure size 432x288 with 1 Axes>"
      ]
     },
     "metadata": {
      "needs_background": "light"
     },
     "output_type": "display_data"
    }
   ],
   "source": [
    "write_plot(dream_in_race_dev)"
   ]
  },
  {
   "cell_type": "code",
   "execution_count": 31,
   "metadata": {},
   "outputs": [
    {
     "name": "stderr",
     "output_type": "stream",
     "text": [
      "100%|██████████| 3869/3869 [00:40<00:00, 94.97it/s] \n"
     ]
    },
    {
     "data": {
      "image/png": "[encoded data removed]",
      "text/plain": [
       "<Figure size 432x288 with 1 Axes>"
      ]
     },
     "metadata": {
      "needs_background": "light"
     },
     "output_type": "display_data"
    }
   ],
   "source": [
    "write_plot(dream_in_race_train)"
   ]
  },
  {
   "cell_type": "code",
   "execution_count": 14,
   "metadata": {},
   "outputs": [
    {
     "data": {
      "image/png": "[encoded data removed]",
      "text/plain": [
       "<Figure size 432x288 with 1 Axes>"
      ]
     },
     "metadata": {
      "needs_background": "light"
     },
     "output_type": "display_data"
    }
   ],
   "source": [
    "plot_number_of_turns(dream_train)"
   ]
  },
  {
   "cell_type": "markdown",
   "metadata": {},
   "source": [
    "## Sentence Tokenization Test"
   ]
  },
  {
   "cell_type": "code",
   "execution_count": 33,
   "metadata": {},
   "outputs": [
    {
     "name": "stdout",
     "output_type": "stream",
     "text": [
      "M: I am considering dropping my dancing class. I am not making any progress.\n",
      " W: If I were you, I stick with it. It's definitely worth time and effort.\n",
      "[\n",
      "  \"M: I am considering dropping my dancing class.\",\n",
      "  \"I am not making any progress.\",\n",
      "  \"W: If I were you, I stick with it.\",\n",
      "  \"It's definitely worth time and effort.\"\n",
      "]\n"
     ]
    }
   ],
   "source": [
    "import nltk\n",
    "\n",
    "sentence_tokenizer = nltk.data.load('tokenizers/punkt/english.pickle')\n",
    "\n",
    "article = dream_in_race_train[0]['article']\n",
    "\n",
    "print(article)\n",
    "print(json.dumps(sentence_tokenizer.tokenize(article), indent=2))"
   ]
  },
  {
   "cell_type": "code",
   "execution_count": null,
   "metadata": {},
   "outputs": [],
   "source": []
  }
 ],
 "metadata": {
  "kernelspec": {
   "display_name": "Python 3",
   "language": "python",
   "name": "python3"
  },
  "language_info": {
   "codemirror_mode": {
    "name": "ipython",
    "version": 3
   },
   "file_extension": ".py",
   "mimetype": "text/x-python",
   "name": "python",
   "nbconvert_exporter": "python",
   "pygments_lexer": "ipython3",
   "version": "3.6.9"
  }
 },
 "nbformat": 4,
 "nbformat_minor": 4
}
